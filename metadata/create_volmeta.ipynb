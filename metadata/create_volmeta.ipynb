{
 "cells": [
  {
   "cell_type": "markdown",
   "metadata": {},
   "source": [
    "# Metadata for reviews"
   ]
  },
  {
   "cell_type": "code",
   "execution_count": 27,
   "metadata": {},
   "outputs": [],
   "source": [
    "import pandas as pd\n",
    "import ast, os, csv"
   ]
  },
  {
   "cell_type": "code",
   "execution_count": 4,
   "metadata": {},
   "outputs": [
    {
     "data": {
      "text/plain": [
       "'a'"
      ]
     },
     "execution_count": 4,
     "metadata": {},
     "output_type": "execute_result"
    }
   ],
   "source": [
    "j = ast.literal_eval(\"['this', 'is', 'a', 'list']\")\n",
    "j[2]"
   ]
  },
  {
   "cell_type": "code",
   "execution_count": 13,
   "metadata": {},
   "outputs": [
    {
     "data": {
      "text/html": [
       "<div>\n",
       "<table border=\"1\" class=\"dataframe\">\n",
       "  <thead>\n",
       "    <tr style=\"text-align: right;\">\n",
       "      <th></th>\n",
       "      <th>title</th>\n",
       "      <th>filename</th>\n",
       "      <th>description</th>\n",
       "      <th>estimateddaterange</th>\n",
       "    </tr>\n",
       "  </thead>\n",
       "  <tbody>\n",
       "    <tr>\n",
       "      <th>0</th>\n",
       "      <td>The Athenaeum</td>\n",
       "      <td>athenaeum</td>\n",
       "      <td>UK magazine, lots of short book reviews</td>\n",
       "      <td>1830-1921</td>\n",
       "    </tr>\n",
       "    <tr>\n",
       "      <th>1</th>\n",
       "      <td>Booklist and Subscription Books Bulletin</td>\n",
       "      <td>booklistandsubscription</td>\n",
       "      <td>US mag, published by American Library Association</td>\n",
       "      <td>1905-1933</td>\n",
       "    </tr>\n",
       "    <tr>\n",
       "      <th>2</th>\n",
       "      <td>Book Review Digest</td>\n",
       "      <td>brd</td>\n",
       "      <td>our sweetest source of book review text, trans...</td>\n",
       "      <td>1906-2002</td>\n",
       "    </tr>\n",
       "    <tr>\n",
       "      <th>3</th>\n",
       "      <td>Publishers Weekly</td>\n",
       "      <td>publishersweekly</td>\n",
       "      <td>has book prices and paper/cloth, among other t...</td>\n",
       "      <td>1873-2007</td>\n",
       "    </tr>\n",
       "    <tr>\n",
       "      <th>4</th>\n",
       "      <td>The Atlantic</td>\n",
       "      <td>atlantic</td>\n",
       "      <td>US mag</td>\n",
       "      <td>1857-1963</td>\n",
       "    </tr>\n",
       "  </tbody>\n",
       "</table>\n",
       "</div>"
      ],
      "text/plain": [
       "                                      title                 filename  \\\n",
       "0                             The Athenaeum                athenaeum   \n",
       "1  Booklist and Subscription Books Bulletin  booklistandsubscription   \n",
       "2                        Book Review Digest                      brd   \n",
       "3                         Publishers Weekly         publishersweekly   \n",
       "4                              The Atlantic                 atlantic   \n",
       "\n",
       "                                         description estimateddaterange  \n",
       "0            UK magazine, lots of short book reviews          1830-1921  \n",
       "1  US mag, published by American Library Association          1905-1933  \n",
       "2  our sweetest source of book review text, trans...          1906-2002  \n",
       "3  has book prices and paper/cloth, among other t...          1873-2007  \n",
       "4                                             US mag          1857-1963  "
      ]
     },
     "execution_count": 13,
     "metadata": {},
     "output_type": "execute_result"
    }
   ],
   "source": [
    "titles = pd.read_csv('../fileindex.csv')\n",
    "titles.head()"
   ]
  },
  {
   "cell_type": "code",
   "execution_count": 33,
   "metadata": {},
   "outputs": [
    {
     "name": "stdout",
     "output_type": "stream",
     "text": [
      "athenaeum 361 77 14\n",
      "booklistandsubscription 69 2 61\n",
      "brd 186 1 72\n",
      "publishersweekly 554 2 130\n",
      "atlantic 306 3 78\n",
      "thenewyorker 381 419 271\n",
      "americanlittle 23 6 7\n",
      "commonwealthlittle 9 1 9\n",
      "spectator 408 30 381\n",
      "nytbr 268 4 140\n",
      "rgpl 110 1 71\n",
      "thenewrepublic 52 27 47\n",
      "blackwoods 1601 46 512\n",
      "../bookmanlo.txt missing summary file\n",
      "bookmanlo 0 102 0\n",
      "bookmanny 435 53 216\n",
      "comprehensivelittle 8 1 8\n",
      "subjectindex 46 38 42\n",
      "britishhumanities 34 5 31\n",
      "19creadersguide 298 11 0\n",
      "fortnightly 298 68 221\n",
      "scrutiny 26 17 10\n",
      "horizon 31 1 18\n",
      "newstatesman 68 4 15\n",
      "edinburgh 1398 112 0\n",
      "tls 25 1 14\n",
      "../pooles.txt missing summary file\n",
      "pooles 0 0 0\n",
      "6995\n",
      "6775\n"
     ]
    }
   ],
   "source": [
    "titledict = dict()\n",
    "\n",
    "allvols = set()\n",
    "with open('tedsnewvolids.txt', encoding = 'utf-8') as f:\n",
    "    for line in f:\n",
    "        allvols.add(line.strip())\n",
    "\n",
    "def mine_ris(filename, thelist):\n",
    "    rispath = '../citations/' + filename + '.ris'\n",
    "    missing = 0\n",
    "    found = 0\n",
    "    voldict = dict()\n",
    "    \n",
    "    with open(rispath, encoding = 'utf-8') as f:\n",
    "        for line in f:\n",
    "            if not line.startswith('UR'):\n",
    "                continue\n",
    "            else:\n",
    "                parts = line.strip().split('/')\n",
    "                useful = parts[-1].split(' ', 1)\n",
    "                volid = useful[0]\n",
    "                if len(useful) > 1:\n",
    "                    enumcron = useful[1]\n",
    "                else:\n",
    "                    enumcron = ''\n",
    "                    \n",
    "                if volid not in thelist:\n",
    "                    missing += 1\n",
    "                else:\n",
    "                    found += 1\n",
    "            \n",
    "                voldict[volid] = enumcron\n",
    "    \n",
    "    return voldict, missing, found\n",
    "\n",
    "outlines = []\n",
    "\n",
    "for filename in titles.filename:\n",
    "    filepath = '../' + filename + '.txt'\n",
    "    \n",
    "    if not os.path.isfile(filepath):\n",
    "        print(filepath, 'missing summary file')\n",
    "        thelist = []\n",
    "    else:\n",
    "        with open(filepath, encoding = 'utf-8') as f:\n",
    "            stringlist = f.read()\n",
    "            thelist = ast.literal_eval(stringlist)\n",
    "            titledict[filename] = thelist\n",
    "        \n",
    "    rispath = '../citations/' + filename + '.ris'\n",
    "    missing = 0\n",
    "    found = 0\n",
    "    \n",
    "    rispath = '../citations/' + filename + '.ris'\n",
    "    if os.path.isfile(rispath):\n",
    "        voldict, missing, found = mine_ris(filename, thelist)\n",
    "    elif os.path.isfile('../citations/' + filename + '1.ris'):\n",
    "        voldict = dict()\n",
    "        for partnum in ['1', '2']:\n",
    "            missing = 0\n",
    "            found = 0\n",
    "            v, m, f = mine_ris(filename + partnum, thelist)\n",
    "            missing += m\n",
    "            found += f\n",
    "            for key, value in v.items():\n",
    "                voldict[key] = value\n",
    "    else:\n",
    "        voldict = dict()\n",
    "        missing = 0\n",
    "        found = 0\n",
    "    \n",
    "    print(filename, len(thelist), missing, found)\n",
    "    \n",
    "    for volid in set(thelist):\n",
    "        if volid in voldict:\n",
    "            enumcron = voldict[volid]\n",
    "        else:\n",
    "            enumcron = ''\n",
    "            \n",
    "        o = [volid, filename, titles.loc[titles.filename == filename, 'title'].values[0], enumcron]\n",
    "        outlines.append(o)\n",
    "\n",
    "with open('volmeta.csv', mode = 'w', encoding = 'utf-8') as f:\n",
    "    writer = csv.writer(f)\n",
    "    writer.writerow(['volid', 'filename', 'title', 'enumcron'])\n",
    "    for o in outlines:\n",
    "        writer.writerow(o)\n",
    "    \n",
    "print(len(outlines))   \n",
    "print(len(allvols))"
   ]
  },
  {
   "cell_type": "code",
   "execution_count": null,
   "metadata": {},
   "outputs": [],
   "source": []
  },
  {
   "cell_type": "code",
   "execution_count": null,
   "metadata": {},
   "outputs": [],
   "source": []
  }
 ],
 "metadata": {
  "kernelspec": {
   "display_name": "Python 3",
   "language": "python",
   "name": "python3"
  },
  "language_info": {
   "codemirror_mode": {
    "name": "ipython",
    "version": 3
   },
   "file_extension": ".py",
   "mimetype": "text/x-python",
   "name": "python",
   "nbconvert_exporter": "python",
   "pygments_lexer": "ipython3",
   "version": "3.5.2"
  }
 },
 "nbformat": 4,
 "nbformat_minor": 2
}
